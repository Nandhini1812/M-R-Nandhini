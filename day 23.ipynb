{
 "cells": [
  {
   "cell_type": "code",
   "execution_count": null,
   "id": "7e613b52",
   "metadata": {},
   "outputs": [],
   "source": [
    "#Tree\n",
    "\n",
    "1.Depth first search(DFS)\n",
    "2.Breardth first serach(BFS)"
   ]
  },
  {
   "cell_type": "code",
   "execution_count": 2,
   "id": "e9a2dd87",
   "metadata": {},
   "outputs": [
    {
     "name": "stdout",
     "output_type": "stream",
     "text": [
      "1 2 3 4 5 6 "
     ]
    }
   ],
   "source": [
    "#Breadth first search\n",
    "class Node:\n",
    "    def __init__(self, val):\n",
    "        self.val = val\n",
    "        self.left = None\n",
    "        self.right = None\n",
    "root = Node(1)\n",
    "root.left = Node(2)\n",
    "root.right = Node(3)\n",
    "root.left.left = Node(4)\n",
    "root.left.right = Node(5)\n",
    "root.right.right = Node(6)\n",
    "\n",
    "from collections import deque\n",
    "def bfs(root):\n",
    "    if not root:\n",
    "        return\n",
    "    q = deque()\n",
    "    q.append(root)\n",
    "    while q:\n",
    "        node = q.popleft()\n",
    "        print(node.val, end=' ')\n",
    "\n",
    "        if node.left:\n",
    "            q.append(node.left)\n",
    "        if node.right:\n",
    "            q.append(node.right)\n",
    "\n",
    "bfs(root)"
   ]
  },
  {
   "cell_type": "code",
   "execution_count": null,
   "id": "de461acf",
   "metadata": {},
   "outputs": [
    {
     "name": "stdout",
     "output_type": "stream",
     "text": [
      "4 5 2 6 3 1 "
     ]
    }
   ],
   "source": [
    "#Depth first seach\n",
    "class Node:\n",
    "    def __init__(self, val):\n",
    "        self.val = val\n",
    "        self.left = None\n",
    "        self.right = None\n",
    "def dfs_preorder(node):\n",
    "    if not node:\n",
    "        return\n",
    "    dfs_preorder(node.left)\n",
    "    dfs_preorder(node.right)\n",
    "    print(node.val, end=' ')\n",
    "#Build tree\n",
    "root = Node(1)\n",
    "root.left = Node(2)\n",
    "root.right = Node(3)\n",
    "root.left.left = Node(4)\n",
    "root.left.right = Node(5)\n",
    "root.right.right = Node(6)\n",
    "\n",
    "dfs_preorder(root)\n"
   ]
  },
  {
   "cell_type": "code",
   "execution_count": null,
   "id": "4d2fff30",
   "metadata": {},
   "outputs": [],
   "source": [
    "#GRAPH\n",
    "#A Graph is a non linear data structure that consists of vertices(nodes) and edges."
   ]
  },
  {
   "cell_type": "code",
   "execution_count": null,
   "id": "eefbafc1",
   "metadata": {},
   "outputs": [],
   "source": [
    "#Types of Graphs\n",
    "'''\n",
    "    1.Directed : one-way roads\n",
    "    2.Undirected : Two-ways roads\n",
    "    3.Weighted : Distance / Cost attached\n",
    "    4.Unweighted\n",
    "    5.Cyclic : Routes that loop back\n",
    "    6.Acyclic : No loop\n",
    "'''"
   ]
  },
  {
   "cell_type": "code",
   "execution_count": null,
   "id": "9a852d43",
   "metadata": {},
   "outputs": [],
   "source": [
    "#Graph representations\n",
    "''' \n",
    "    Adjacency List -> (Python dict of lists)\n",
    "    Adjacency Matrix -> (for dense graphs)\n",
    "'''\n",
    "\n",
    "#Represent a simple city map\n",
    "'''Lets consider you have 3 cities: A,B,C\n",
    "         there are roads:\n",
    "         A <-> B\n",
    "         A <-> C\n",
    "'''"
   ]
  },
  {
   "cell_type": "code",
   "execution_count": null,
   "id": "ff0e65d9",
   "metadata": {},
   "outputs": [],
   "source": []
  }
 ],
 "metadata": {
  "kernelspec": {
   "display_name": "Python 3",
   "language": "python",
   "name": "python3"
  },
  "language_info": {
   "codemirror_mode": {
    "name": "ipython",
    "version": 3
   },
   "file_extension": ".py",
   "mimetype": "text/x-python",
   "name": "python",
   "nbconvert_exporter": "python",
   "pygments_lexer": "ipython3",
   "version": "3.13.5"
  }
 },
 "nbformat": 4,
 "nbformat_minor": 5
}
