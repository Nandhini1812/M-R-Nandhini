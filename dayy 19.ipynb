{
 "cells": [
  {
   "cell_type": "code",
   "execution_count": 3,
   "id": "8df19cf7",
   "metadata": {},
   "outputs": [
    {
     "data": {
      "text/plain": [
       "7.425000000000001"
      ]
     },
     "execution_count": 3,
     "metadata": {},
     "output_type": "execute_result"
    }
   ],
   "source": [
    "class Astronaut():\n",
    "    def __init__(self, w):\n",
    "        self.w = w\n",
    "    def weight_on(self,planet):\n",
    "        if planet == \"mars\":\n",
    "            return self.w*0.38\n",
    "        elif planet == \"moon\":\n",
    "            return self.w*0.165\n",
    "        elif planet == \"jupiter\":\n",
    "            return self.w*2.34\n",
    "A1 = Astronaut(45)\n",
    "A1.weight_on(\"moon\")\n"
   ]
  }
 ],
 "metadata": {
  "kernelspec": {
   "display_name": "Python 3",
   "language": "python",
   "name": "python3"
  },
  "language_info": {
   "codemirror_mode": {
    "name": "ipython",
    "version": 3
   },
   "file_extension": ".py",
   "mimetype": "text/x-python",
   "name": "python",
   "nbconvert_exporter": "python",
   "pygments_lexer": "ipython3",
   "version": "3.13.5"
  }
 },
 "nbformat": 4,
 "nbformat_minor": 5
}
